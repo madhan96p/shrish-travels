{
 "cells": [
  {
   "cell_type": "code",
   "execution_count": null,
   "id": "c4d209cb",
   "metadata": {},
   "outputs": [],
   "source": [
    "print(\"hello\")"
   ]
  },
  {
   "cell_type": "code",
   "execution_count": 8,
   "id": "c7432c95",
   "metadata": {},
   "outputs": [
    {
     "name": "stdout",
     "output_type": "stream",
     "text": [
      "Day 1:2\n",
      "Day 2:4\n",
      "Day 3:8\n",
      "Day 4:16\n",
      "Day 5:32\n",
      "Day 6:64\n",
      "Day 7:128\n",
      "Day 8:256\n",
      "Day 9:512\n",
      "Day 10:1024\n",
      "Day 11:2048\n",
      "Day 12:4096\n",
      "Day 13:8192\n",
      "Day 14:16384\n",
      "Day 15:32768\n",
      "Day 16:65536\n",
      "Day 17:131072\n",
      "Day 18:262144\n",
      "Day 19:524288\n",
      "Day 20:1048576\n",
      "Day 21:2097152\n",
      "Day 22:4194304\n",
      "Day 23:8388608\n",
      "Day 24:16777216\n",
      "Day 25:33554432\n",
      "Day 26:67108864\n",
      "Day 27:134217728\n",
      "Day 28:268435456\n",
      "Day 29:536870912\n",
      "Day 30:1073741824\n"
     ]
    }
   ],
   "source": [
    "i = 30\n",
    "amt=1\n",
    "for A in range(1,i+1):\n",
    "    print(f\"Day {A}:{amt*2}\")\n",
    "    amt *= 2"
   ]
  },
  {
   "cell_type": "code",
   "execution_count": null,
   "id": "c6c6afda",
   "metadata": {},
   "outputs": [],
   "source": []
  }
 ],
 "metadata": {
  "kernelspec": {
   "display_name": "Python 3",
   "language": "python",
   "name": "python3"
  },
  "language_info": {
   "codemirror_mode": {
    "name": "ipython",
    "version": 3
   },
   "file_extension": ".py",
   "mimetype": "text/x-python",
   "name": "python",
   "nbconvert_exporter": "python",
   "pygments_lexer": "ipython3",
   "version": "3.13.2"
  }
 },
 "nbformat": 4,
 "nbformat_minor": 5
}
