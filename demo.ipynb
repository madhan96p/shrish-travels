{
 "cells": [
  {
   "cell_type": "code",
   "execution_count": 15,
   "id": "549a5a22",
   "metadata": {},
   "outputs": [
    {
     "data": {
      "text/plain": [
       "{'ip': '2402:3a80:39:3098:ef74:66cc:ee1b:5fe9',\n",
       " 'city': 'Salem',\n",
       " 'region': 'Tamil Nadu',\n",
       " 'country': 'IN',\n",
       " 'loc': '11.6538,78.1554',\n",
       " 'org': 'AS38266 Vodafone Idea Ltd',\n",
       " 'postal': '636006',\n",
       " 'timezone': 'Asia/Kolkata'}"
      ]
     },
     "execution_count": 15,
     "metadata": {},
     "output_type": "execute_result"
    }
   ],
   "source": [
    "import requests\n",
    "\n",
    "ip = \"2402:3a80:39:3098:ef74:66cc:ee1b:5fe9\"\n",
    "token = \"71e073b7ac1d69\"  # Replace with your real token\n",
    "\n",
    "response = requests.get(f\"https://ipinfo.io/{ip}/json?token={token}\")\n",
    "# response = requests.get(f\"https://ipinfo.io/{ip}/json\")\n",
    "data = response.json()\n",
    "\n",
    "data\n"
   ]
  },
  {
   "cell_type": "code",
   "execution_count": 16,
   "id": "ef559c8c",
   "metadata": {},
   "outputs": [
    {
     "name": "stdout",
     "output_type": "stream",
     "text": [
      "\n",
      "📍 IP: 2402:3a80:39:3098:ef74:66cc:ee1b:5fe9\n",
      "City: Salem\n",
      "Region: Tamil Nadu\n",
      "Country: IN\n",
      "Org: AS38266 Vodafone Idea Ltd\n",
      "Location: 11.6538,78.1554\n",
      "Timezone: Asia/Kolkata\n",
      "\n",
      "📍 IP: 8.8.8.8\n",
      "City: Mountain View\n",
      "Region: California\n",
      "Country: US\n",
      "Org: AS15169 Google LLC\n",
      "Location: 38.0088,-122.1175\n",
      "Timezone: America/Los_Angeles\n",
      "\n",
      "📍 IP: 103.27.10.15\n",
      "City: Delhi\n",
      "Region: Delhi\n",
      "Country: IN\n",
      "Org: AS132780 Indian Institute of Technology Delhi\n",
      "Location: 28.6519,77.2315\n",
      "Timezone: Asia/Kolkata\n"
     ]
    }
   ],
   "source": [
    "import requests\n",
    "\n",
    "# Sample list of IPs (you would automate fetching this via the API)\n",
    "ips = [\n",
    "    \"2402:3a80:39:3098:ef74:66cc:ee1b:5fe9\",\n",
    "    \"8.8.8.8\",\n",
    "    \"103.27.10.15\"\n",
    "]\n",
    "\n",
    "token = \"71e073b7ac1d69\"  # Your ipinfo.io token\n",
    "\n",
    "for ip in ips:\n",
    "    response = requests.get(f\"https://ipinfo.io/{ip}/json?token={token}\")\n",
    "    data = response.json()\n",
    "\n",
    "    print(f\"\\n📍 IP: {ip}\")\n",
    "    print(f\"City: {data.get('city')}\")\n",
    "    print(f\"Region: {data.get('region')}\")\n",
    "    print(f\"Country: {data.get('country')}\")\n",
    "    print(f\"Org: {data.get('org')}\")\n",
    "    print(f\"Location: {data.get('loc')}\")\n",
    "    print(f\"Timezone: {data.get('timezone')}\")\n"
   ]
  },
  {
   "cell_type": "code",
   "execution_count": null,
   "id": "02a74e7b",
   "metadata": {},
   "outputs": [],
   "source": []
  }
 ],
 "metadata": {
  "kernelspec": {
   "display_name": "Python 3",
   "language": "python",
   "name": "python3"
  },
  "language_info": {
   "codemirror_mode": {
    "name": "ipython",
    "version": 3
   },
   "file_extension": ".py",
   "mimetype": "text/x-python",
   "name": "python",
   "nbconvert_exporter": "python",
   "pygments_lexer": "ipython3",
   "version": "3.13.2"
  }
 },
 "nbformat": 4,
 "nbformat_minor": 5
}
